{
 "cells": [
  {
   "cell_type": "code",
   "execution_count": 32,
   "metadata": {},
   "outputs": [],
   "source": [
    "import os\n",
    "import pandas as pd\n",
    "import numpy as np\n",
    "from PIL import Image\n",
    "from sklearn import svm\n",
    "from sklearn.model_selection import train_test_split\n",
    "from sklearn.preprocessing import OneHotEncoder ,LabelEncoder\n",
    "from sklearn import metrics"
   ]
  },
  {
   "cell_type": "code",
   "execution_count": 2,
   "metadata": {},
   "outputs": [],
   "source": [
    "# just change path to run\n",
    "\n",
    "# example path\n",
    "# path = r'C:\\Users\\harshit\\Desktop\\elpv-dataset-master'\n",
    "path = r''"
   ]
  },
  {
   "cell_type": "code",
   "execution_count": 3,
   "metadata": {},
   "outputs": [],
   "source": [
    "os.chdir(path)"
   ]
  },
  {
   "cell_type": "code",
   "execution_count": 13,
   "metadata": {},
   "outputs": [],
   "source": [
    "def load_dataset(fname=None):\n",
    "    if fname is None:\n",
    "        # Assume we are in the utils folder and get the absolute path to the\n",
    "        # parent directory.\n",
    "        fname = os.path.abspath(os.path.join(os.path.dirname(__file__),\n",
    "                                             os.path.pardir))\n",
    "        fname = os.path.join(fname, 'labels.csv')\n",
    "\n",
    "    data = np.genfromtxt(fname, dtype=['|S19', '<f8', '|S4'], names=[\n",
    "                         'path', 'probability', 'type'])\n",
    "    image_fnames = np.char.decode(data['path'])\n",
    "    probs = data['probability']\n",
    "    types = np.char.decode(data['type'])\n",
    "\n",
    "    def load_cell_image(fname):\n",
    "        with Image.open(fname) as image:\n",
    "            return np.asarray(image)\n",
    "\n",
    "    dir = os.path.dirname(fname)\n",
    "\n",
    "    images = np.array([load_cell_image(os.path.join(dir, fn))\n",
    "                       for fn in image_fnames])\n",
    "\n",
    "    return images, probs, types"
   ]
  },
  {
   "cell_type": "code",
   "execution_count": 14,
   "metadata": {},
   "outputs": [],
   "source": [
    "temp = load_dataset('labels.csv')"
   ]
  },
  {
   "cell_type": "code",
   "execution_count": 15,
   "metadata": {},
   "outputs": [
    {
     "data": {
      "text/plain": [
       "(array([[[14, 14, 14, ...,  9,  9,  9],\n",
       "         [15, 15, 15, ..., 10,  9,  9],\n",
       "         [15, 15, 16, ..., 10, 10, 10],\n",
       "         ...,\n",
       "         [29, 29, 29, ..., 19, 18,  4],\n",
       "         [29, 29, 29, ..., 18, 18,  4],\n",
       "         [29, 29, 29, ..., 18, 18,  4]],\n",
       " \n",
       "        [[29, 29, 29, ..., 17, 16,  3],\n",
       "         [29, 29, 29, ..., 17, 16,  3],\n",
       "         [29, 29, 29, ..., 16, 15,  3],\n",
       "         ...,\n",
       "         [21, 22, 21, ..., 12, 12, 11],\n",
       "         [20, 20, 20, ..., 12, 12, 11],\n",
       "         [19, 19, 18, ..., 12, 12, 10]],\n",
       " \n",
       "        [[29, 29, 30, ..., 19, 18,  4],\n",
       "         [29, 30, 30, ..., 19, 18,  4],\n",
       "         [30, 30, 31, ..., 18, 18,  3],\n",
       "         ...,\n",
       "         [35, 35, 35, ..., 21, 12,  0],\n",
       "         [35, 35, 35, ..., 21, 12,  0],\n",
       "         [35, 35, 35, ..., 21, 12,  0]],\n",
       " \n",
       "        ...,\n",
       " \n",
       "        [[66, 65, 62, ..., 62, 62, 62],\n",
       "         [64, 62, 61, ..., 60, 60, 61],\n",
       "         [63, 61, 59, ..., 61, 60, 60],\n",
       "         ...,\n",
       "         [45, 50, 55, ..., 57, 51, 47],\n",
       "         [45, 47, 48, ..., 52, 49, 46],\n",
       "         [43, 43, 44, ..., 48, 46, 44]],\n",
       " \n",
       "        [[64, 65, 64, ..., 68, 69, 67],\n",
       "         [62, 62, 63, ..., 66, 67, 66],\n",
       "         [61, 60, 61, ..., 68, 67, 67],\n",
       "         ...,\n",
       "         [47, 45, 46, ..., 54, 48, 48],\n",
       "         [44, 42, 42, ..., 53, 47, 47],\n",
       "         [44, 41, 41, ..., 51, 46, 46]],\n",
       " \n",
       "        [[67, 68, 66, ..., 64, 64, 63],\n",
       "         [67, 67, 66, ..., 63, 62, 63],\n",
       "         [67, 66, 64, ..., 66, 63, 63],\n",
       "         ...,\n",
       "         [48, 48, 49, ..., 65, 55, 50],\n",
       "         [46, 45, 45, ..., 59, 51, 47],\n",
       "         [44, 43, 42, ..., 51, 47, 45]]], dtype=uint8),\n",
       " array([1., 1., 1., ..., 0., 0., 0.]),\n",
       " array(['mono', 'mono', 'mono', ..., 'poly', 'poly', 'poly'], dtype='<U4'))"
      ]
     },
     "execution_count": 15,
     "metadata": {},
     "output_type": "execute_result"
    }
   ],
   "source": [
    "temp"
   ]
  },
  {
   "cell_type": "code",
   "execution_count": 16,
   "metadata": {},
   "outputs": [],
   "source": [
    "images = temp[0]\n",
    "prob = temp[1]\n",
    "panel_type = temp[2]\n",
    "\n",
    "X = []\n",
    "y = []\n",
    "for i in range(len(images)):\n",
    "    X.append(images[i].flatten() ) \n",
    "    y.append(panel_type[i])"
   ]
  },
  {
   "cell_type": "code",
   "execution_count": 24,
   "metadata": {},
   "outputs": [
    {
     "data": {
      "text/plain": [
       "array([0, 0, 0, ..., 1, 1, 1], dtype=int64)"
      ]
     },
     "execution_count": 24,
     "metadata": {},
     "output_type": "execute_result"
    }
   ],
   "source": [
    "le = LabelEncoder()\n",
    "y = le.fit_transform(y)"
   ]
  },
  {
   "cell_type": "code",
   "execution_count": 27,
   "metadata": {},
   "outputs": [],
   "source": [
    "X_train, X_test, y_train, y_test = train_test_split(X, y, test_size=0.3,random_state=109)"
   ]
  },
  {
   "cell_type": "code",
   "execution_count": 37,
   "metadata": {},
   "outputs": [
    {
     "data": {
      "text/plain": [
       "SVC(C=1.0, break_ties=False, cache_size=200, class_weight=None, coef0=0.0,\n",
       "    decision_function_shape='ovr', degree=3, gamma='scale', kernel='rbf',\n",
       "    max_iter=-1, probability=False, random_state=None, shrinking=True,\n",
       "    tol=0.001, verbose=False)"
      ]
     },
     "execution_count": 37,
     "metadata": {},
     "output_type": "execute_result"
    }
   ],
   "source": [
    "clf = svm.SVC(kernel='rbf')\n",
    "clf.fit(X_train, y_train)"
   ]
  },
  {
   "cell_type": "code",
   "execution_count": 38,
   "metadata": {},
   "outputs": [],
   "source": [
    "y_pred = clf.predict(X_test)"
   ]
  },
  {
   "cell_type": "code",
   "execution_count": 39,
   "metadata": {},
   "outputs": [
    {
     "name": "stdout",
     "output_type": "stream",
     "text": [
      "Accuracy: 0.9974619289340102\n"
     ]
    }
   ],
   "source": [
    "print(\"Accuracy:\",metrics.accuracy_score(y_test, y_pred))"
   ]
  },
  {
   "cell_type": "code",
   "execution_count": 40,
   "metadata": {},
   "outputs": [
    {
     "name": "stdout",
     "output_type": "stream",
     "text": [
      "Precision: 0.9955849889624724\n"
     ]
    }
   ],
   "source": [
    "print(\"Precision:\",metrics.precision_score(y_test, y_pred))"
   ]
  },
  {
   "cell_type": "code",
   "execution_count": 41,
   "metadata": {},
   "outputs": [
    {
     "name": "stdout",
     "output_type": "stream",
     "text": [
      "Recall: 1.0\n"
     ]
    }
   ],
   "source": [
    "print(\"Recall:\",metrics.recall_score(y_test, y_pred))"
   ]
  },
  {
   "cell_type": "code",
   "execution_count": null,
   "metadata": {},
   "outputs": [],
   "source": []
  }
 ],
 "metadata": {
  "kernelspec": {
   "display_name": "Python 3",
   "language": "python",
   "name": "python3"
  },
  "language_info": {
   "codemirror_mode": {
    "name": "ipython",
    "version": 3
   },
   "file_extension": ".py",
   "mimetype": "text/x-python",
   "name": "python",
   "nbconvert_exporter": "python",
   "pygments_lexer": "ipython3",
   "version": "3.7.4"
  }
 },
 "nbformat": 4,
 "nbformat_minor": 4
}
